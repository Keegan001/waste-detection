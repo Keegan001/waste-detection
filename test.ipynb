{
 "cells": [
  {
   "cell_type": "code",
   "execution_count": 6,
   "metadata": {},
   "outputs": [],
   "source": [
    "import os\n",
    "import uuid\n",
    "import shutil\n",
    "import cv2\n",
    "import numpy as np\n",
    "from ultralytics import YOLO\n",
    "from PIL import Image\n",
    "from typing import List, Dict, Any"
   ]
  },
  {
   "cell_type": "code",
   "execution_count": 1,
   "metadata": {
    "trusted": true
   },
   "outputs": [
    {
     "name": "stdout",
     "output_type": "stream",
     "text": [
      "\n",
      "image 1/1 c:\\Users\\jaind\\OneDrive\\Desktop\\waste-management\\waste-detection\\test.jpeg: 480x640 2 persons, 54.2ms\n",
      "Speed: 6.6ms preprocess, 54.2ms inference, 205.8ms postprocess per image at shape (1, 3, 480, 640)\n"
     ]
    }
   ],
   "source": [
    "from ultralytics import YOLO\n",
    "\n",
    "# Load a model\n",
    "model = YOLO(\"yolo11n.pt\") \n",
    "\n",
    "# Perform object detection on an image\n",
    "results = model(\"test.jpeg\")\n",
    "results[0].show()"
   ]
  },
  {
   "cell_type": "code",
   "execution_count": null,
   "metadata": {},
   "outputs": [
    {
     "name": "stdout",
     "output_type": "stream",
     "text": [
      "\n",
      "image 1/1 c:\\Users\\jaind\\OneDrive\\Desktop\\waste-management\\waste-detection\\test.jpeg: 480x640 2 persons, 64.4ms\n",
      "Speed: 2.0ms preprocess, 64.4ms inference, 6.6ms postprocess per image at shape (1, 3, 480, 640)\n"
     ]
    }
   ],
   "source": [
    "from ultralytics import YOLO\n",
    "\n",
    "# Load a model\n",
    "model = YOLO(\"YOLO11m-seg.pt\") \n",
    "\n",
    "# Perform object detection on an image\n",
    "results = model(\"test.jpeg\")\n",
    "results[0].show()"
   ]
  },
  {
   "cell_type": "code",
   "execution_count": 5,
   "metadata": {},
   "outputs": [
    {
     "name": "stdout",
     "output_type": "stream",
     "text": [
      "\n",
      "image 1/1 c:\\Users\\jaind\\OneDrive\\Desktop\\waste-management\\waste-detection\\test.jpeg: 224x224 bubble 0.96, water_bottle 0.01, loupe 0.00, nipple 0.00, hair_spray 0.00, 58.3ms\n",
      "Speed: 22.5ms preprocess, 58.3ms inference, 0.1ms postprocess per image at shape (1, 3, 224, 224)\n",
      "Downloading https://ultralytics.com/assets/Arial.ttf to 'C:\\Users\\jaind\\AppData\\Roaming\\Ultralytics\\Arial.ttf'...\n"
     ]
    },
    {
     "name": "stderr",
     "output_type": "stream",
     "text": [
      "100%|██████████| 755k/755k [00:00<00:00, 1.21MB/s]\n"
     ]
    }
   ],
   "source": [
    "from ultralytics import YOLO\n",
    "\n",
    "# Load a model\n",
    "model = YOLO(\"yolo11x-cls.pt\") \n",
    "\n",
    "# Perform object detection on an image\n",
    "results = model(\"test.jpeg\")\n",
    "results[0].show()"
   ]
  }
 ],
 "metadata": {
  "kaggle": {
   "accelerator": "none",
   "dataSources": [],
   "dockerImageVersionId": 31012,
   "isGpuEnabled": false,
   "isInternetEnabled": true,
   "language": "python",
   "sourceType": "notebook"
  },
  "kernelspec": {
   "display_name": "Python 3",
   "language": "python",
   "name": "python3"
  },
  "language_info": {
   "codemirror_mode": {
    "name": "ipython",
    "version": 3
   },
   "file_extension": ".py",
   "mimetype": "text/x-python",
   "name": "python",
   "nbconvert_exporter": "python",
   "pygments_lexer": "ipython3",
   "version": "3.11.9"
  }
 },
 "nbformat": 4,
 "nbformat_minor": 4
}
